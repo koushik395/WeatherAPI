{
  "nbformat": 4,
  "nbformat_minor": 0,
  "metadata": {
    "colab": {
      "provenance": [],
      "authorship_tag": "ABX9TyNynfKyrjZAUsMKhQ9JZbbY",
      "include_colab_link": true
    },
    "kernelspec": {
      "name": "python3",
      "display_name": "Python 3"
    },
    "language_info": {
      "name": "python"
    }
  },
  "cells": [
    {
      "cell_type": "markdown",
      "metadata": {
        "id": "view-in-github",
        "colab_type": "text"
      },
      "source": [
        "<a href=\"https://colab.research.google.com/github/koushik395/WeatherAPI/blob/main/WeatherAPI.ipynb\" target=\"_parent\"><img src=\"https://colab.research.google.com/assets/colab-badge.svg\" alt=\"Open In Colab\"/></a>"
      ]
    },
    {
      "cell_type": "markdown",
      "source": [
        "#Weather API Using OIKO API Service\n"
      ],
      "metadata": {
        "id": "frSC1whLsKzX"
      }
    },
    {
      "cell_type": "markdown",
      "source": [
        "##Task - Get the Weather of a Particular City on a Date."
      ],
      "metadata": {
        "id": "H90N4a0usXHy"
      }
    },
    {
      "cell_type": "code",
      "execution_count": 80,
      "metadata": {
        "id": "UxBrTrhOHRfI"
      },
      "outputs": [],
      "source": [
        "import requests\n",
        "import json\n",
        "import datetime\n",
        "import pandas as pd"
      ]
    },
    {
      "cell_type": "markdown",
      "source": [
        "### Get the URL for the OIKO API\n",
        "### GET the API key which is issued by the oiko service\n",
        "#### Give a start and end date for which you want the weather of a city need to be retrieved"
      ],
      "metadata": {
        "id": "HS_dr7taszDJ"
      }
    },
    {
      "cell_type": "code",
      "source": [
        "def get_temperature(city,start,end):\n",
        "  OIKO_KEY =  '8416c64d40484f20b389854f9a164001'\n",
        "  URL = 'https://api.oikolab.com/weather'\n",
        "  r = requests.get(URL,\n",
        "                  params={'param': ['temperature'],\n",
        "                          'start': start,\n",
        "                          'end': end,\n",
        "                          'location':city,\n",
        "                          'freq':'D', #day-wise\n",
        "                          'api-key': OIKO_KEY\n",
        "                          }\n",
        "                  )\n",
        "  weather_data = json.loads(r.json()['data'])\n",
        "  df = pd.DataFrame(index=pd.to_datetime(weather_data[\"index\"],unit='s'),\n",
        "                  data=weather_data['data'],\n",
        "                  columns=weather_data['columns'])\n",
        "  temp = df.iloc[0,4]\n",
        "  return temp"
      ],
      "metadata": {
        "id": "8S1Sz_bxHXJU"
      },
      "execution_count": 81,
      "outputs": []
    },
    {
      "cell_type": "markdown",
      "source": [
        "#### Give the city name and the Date you want the temperature to be retrieved."
      ],
      "metadata": {
        "id": "u4tT6ul1tWxZ"
      }
    },
    {
      "cell_type": "code",
      "source": [
        "city = input()\n",
        "date = input()\n",
        "temp = get_temperature(city,date,date)\n",
        "print(f'Temperature for {city} on {date} = {temp}C')"
      ],
      "metadata": {
        "colab": {
          "base_uri": "https://localhost:8080/"
        },
        "id": "w87vILWaOoit",
        "outputId": "8b07164b-a2dd-480b-b58e-a06ee24ffe7f"
      },
      "execution_count": 82,
      "outputs": [
        {
          "output_type": "stream",
          "name": "stdout",
          "text": [
            "mumbai\n",
            "2022-12-02\n",
            "Temperature for mumbai on 2022-12-02 = 26.58C\n"
          ]
        }
      ]
    },
    {
      "cell_type": "markdown",
      "source": [
        "## Task-2 Choose the best city among two given cities for which the variance is least."
      ],
      "metadata": {
        "id": "WloFHVJctepO"
      }
    },
    {
      "cell_type": "markdown",
      "source": [
        "### Choose a span of 7-days and Calculate the variance for the temperatures of the city"
      ],
      "metadata": {
        "id": "tQuxR4JatskY"
      }
    },
    {
      "cell_type": "markdown",
      "source": [
        "### Finally Choose the Best the city which has a least variance and best suited for the holiday trip."
      ],
      "metadata": {
        "id": "556aFZB_t4o9"
      }
    },
    {
      "cell_type": "code",
      "source": [
        "city1 = input()\n",
        "city2 = input()\n",
        "date =input() \n",
        "start_date = date.split('-')\n",
        "obj1 = datetime.datetime(int(start_date[0]),int(start_date[1]),int(start_date[2]))\n",
        "obj2 = obj1 + datetime.timedelta(days=7) # we are adding +7 days to current date\n",
        "start_date = obj1.strftime('%y-%m-%d')\n",
        "end_date = obj2.strftime('%y-%m-%d')\n",
        "city1_var = get_temperature(city1,start_date,end_date).var()\n",
        "city2_var = get_temperature(city2,start_date,end_date).var()\n",
        "\n",
        "if city1_var < city2_var:\n",
        "    print(f'We choose {city1} because of less temperature variance')\n",
        "else:\n",
        "    print(f'We choose {city2} because of less temperature variance')"
      ],
      "metadata": {
        "colab": {
          "base_uri": "https://localhost:8080/"
        },
        "id": "hT5kNQLMrrcy",
        "outputId": "76b07ba2-246f-45b3-d780-798713f08c72"
      },
      "execution_count": 83,
      "outputs": [
        {
          "output_type": "stream",
          "name": "stdout",
          "text": [
            "delhi\n",
            "vizag\n",
            "2022-07-13\n",
            "We choose vizag because of less temperature variance\n"
          ]
        }
      ]
    }
  ]
}